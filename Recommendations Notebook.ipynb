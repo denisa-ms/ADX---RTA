{
 "cells": [
  {
   "cell_type": "code",
   "execution_count": 2,
   "metadata": {},
   "outputs": [],
   "source": [
    "from azure.kusto.data import KustoClient, KustoConnectionStringBuilder\n",
    "from azure.kusto.data.exceptions import KustoServiceError\n",
    "from azure.kusto.data.helpers import dataframe_from_result_table\n",
    "from IPython.display import display, HTML, JSON, Markdown\n",
    "\n",
    "from dotenv import load_dotenv\n",
    "import pandas as pd\n",
    "import os\n",
    "\n",
    "load_dotenv()\n",
    "\n",
    "AAD_TENANT_ID = os.getenv(\"AAD_TENANT_ID\")\n",
    "KUSTO_CLUSTER = os.getenv(\"KUSTO_CLUSTER\")\n",
    "KUSTO_DATABASE = os.getenv(\"KUSTO_DATABASE\")\n",
    "KUSTO_MANAGED_IDENTITY_APP_ID = os.getenv(\"KUSTO_MANAGED_IDENTITY_APP_ID\")\n",
    "KUSTO_MANAGED_IDENTITY_SECRET = os.getenv(\"KUSTO_MANAGED_IDENTITY_SECRET\")"
   ]
  },
  {
   "cell_type": "code",
   "execution_count": 3,
   "metadata": {},
   "outputs": [],
   "source": [
    "# Connect to adx using AAD app registration\n",
    "cluster = KUSTO_CLUSTER\n",
    "kcsb = KustoConnectionStringBuilder.with_aad_application_key_authentication(cluster, KUSTO_MANAGED_IDENTITY_APP_ID, KUSTO_MANAGED_IDENTITY_SECRET,  AAD_TENANT_ID)\n",
    "client = KustoClient(kcsb)\n",
    "kusto_db = KUSTO_DATABASE\n",
    "table_name = \"impressions\""
   ]
  },
  {
   "cell_type": "code",
   "execution_count": 4,
   "metadata": {},
   "outputs": [],
   "source": [
    "def jaccard_set(list1, list2):\n",
    "    intersection = len(list(set(list1).intersection(list2)))\n",
    "    union = (len(list1) + len(list2)) - intersection\n",
    "    return float(intersection) / union"
   ]
  },
  {
   "cell_type": "code",
   "execution_count": 5,
   "metadata": {},
   "outputs": [],
   "source": [
    "query = \"\"\"\n",
    "external_table(\"Orders\")\n",
    "| summarize ordersWhereFound = make_list(SalesOrderID) by ProductID\n",
    "\"\"\"\n",
    "response = client.execute(kusto_db, query)\n",
    "df = dataframe_from_result_table(response.primary_results[0])\n",
    "\n",
    "result_df = pd.DataFrame(columns=['ProductID1', 'ProductID2', 'jaccard_similarity'])\n",
    "for idx in df.index:\n",
    "    for idx2 in df.index+1:\n",
    "        if idx2 >= len(df.index):\n",
    "            break\n",
    "        result = {}\n",
    "        if df['ProductID'][idx] == df['ProductID'][idx2]:\n",
    "            continue\n",
    "        jaccard = jaccard_set(df['ordersWhereFound'][idx], df['ordersWhereFound'][idx2])\n",
    "        result['ProductID1'] = df['ProductID'][idx]\n",
    "        result['ProductID2'] = df['ProductID'][idx2]\n",
    "        result['jaccard_similarity'] = jaccard\n",
    "        result_df.loc[len(result_df)] = result\n",
    "\n",
    "result_df.to_csv('./data/jaccard_similarity.csv', index=False)"
   ]
  }
 ],
 "metadata": {
  "kernelspec": {
   "display_name": ".venv",
   "language": "python",
   "name": "python3"
  },
  "language_info": {
   "codemirror_mode": {
    "name": "ipython",
    "version": 3
   },
   "file_extension": ".py",
   "mimetype": "text/x-python",
   "name": "python",
   "nbconvert_exporter": "python",
   "pygments_lexer": "ipython3",
   "version": "3.10.11"
  },
  "orig_nbformat": 4
 },
 "nbformat": 4,
 "nbformat_minor": 2
}
