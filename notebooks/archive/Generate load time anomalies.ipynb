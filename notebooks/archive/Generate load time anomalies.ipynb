{
 "cells": [
  {
   "cell_type": "code",
   "execution_count": 1,
   "metadata": {},
   "outputs": [],
   "source": [
    "import json\n",
    "from azure.eventhub import EventHubProducerClient, EventData\n",
    "from dotenv import load_dotenv\n",
    "import os\n",
    "import socket\n",
    "import random\n",
    "\n",
    "from random import randrange\n",
    "\n",
    "load_dotenv()\n",
    "EVENT_HUB_CONN_STRING = os.getenv(\"EVENT_HUB_CONN_STRING\") \n",
    "EVENT_HUB_NAME_IMPRESSIONS = os.getenv(\"EVENT_HUB_NAME_IMPRESSIONS\")\n",
    "EVENT_HUB_NAME_CLICKS = os.getenv(\"EVENT_HUB_NAME_CLICKS\")\n",
    "\n",
    "eventHubConnString = EVENT_HUB_CONN_STRING\n",
    "eventHubNameImpressions = EVENT_HUB_NAME_IMPRESSIONS\n",
    "eventHubNameClicks = EVENT_HUB_NAME_CLICKS\n",
    "\n",
    "producer_impressions = EventHubProducerClient.from_connection_string(conn_str=eventHubConnString, eventhub_name=eventHubNameImpressions)\n",
    "producer_clicks = EventHubProducerClient.from_connection_string(conn_str=eventHubConnString, eventhub_name=eventHubNameClicks)\n",
    "\n",
    "hostname = socket.gethostname()"
   ]
  },
  {
   "cell_type": "code",
   "execution_count": 2,
   "metadata": {},
   "outputs": [],
   "source": [
    "from utils import generateClickEvent, generateImpressionEvent\n",
    "\n",
    "def sendToEventsHub(jsonEvent, producer):\n",
    "    eventString = json.dumps(jsonEvent)\n",
    "    print(eventString) \n",
    "    event_data_batch = producer.create_batch() \n",
    "    event_data_batch.add(EventData(eventString)) \n",
    "    producer.send_batch(event_data_batch)\n",
    "\n",
    "def generateEvents(isUnsupportedBrowser = False, isAnomaly = False):\n",
    "    try:\n",
    "        while True:\n",
    "            impressionEvent = generateImpressionEvent(isUnsupportedBrowser, isAnomaly, None)    \n",
    "            sendToEventsHub(impressionEvent, producer_impressions)\n",
    "            if random.randint(1, 100) > 80:\n",
    "                clickEvent = generateClickEvent(impressionEvent)    \n",
    "                sendToEventsHub(clickEvent, producer_clicks)\n",
    "    except KeyboardInterrupt:\n",
    "        producer_impressions.close()\n",
    "        producer_clicks.close()\n"
   ]
  },
  {
   "cell_type": "code",
   "execution_count": 3,
   "metadata": {},
   "outputs": [
    {
     "name": "stdout",
     "output_type": "stream",
     "text": [
      "{\"impressionId\": \"b8c0e7ec-450c-4f0b-a6c4-80cb7e3f750a\", \"impressionDate\": \"2024-01-03T00:21:36\", \"productId\": 885, \"browser\": \"Firefox\", \"browserVersion\": \"8.5\", \"device\": \"mobile\", \"source\": \"facebook\", \"ip_address\": \"104.197.171.50\", \"landing_page\": \"https://www.mccormick.com/tags/categorieshome.html\", \"page_loading_seconds\": 43.73}\n",
      "{\"impressionId\": \"7489a773-f01b-406b-a7dd-60d2cd6e8e79\", \"impressionDate\": \"2024-01-07T07:05:14\", \"productId\": 708, \"browser\": \"Safari\", \"browserVersion\": \"11.2\", \"device\": \"mobile\", \"source\": \"bing\", \"ip_address\": \"17.201.82.73\", \"landing_page\": \"https://moore.com/wp-content/taghomepage.php\", \"page_loading_seconds\": 28.66}\n",
      "{\"impressionId\": \"0ed16e59-e592-4276-9bb3-7c555f4aa485\", \"impressionDate\": \"2024-01-08T23:52:53\", \"productId\": 964, \"browser\": \"Edge\", \"browserVersion\": \"4.5\", \"device\": \"computer\", \"source\": \"facebook\", \"ip_address\": \"177.102.150.15\", \"landing_page\": \"https://www.rodriguez.org/search/postshomepage.html\", \"page_loading_seconds\": 40.37}\n",
      "{\"impressionId\": \"fd7ce0f6-0f0a-4dd6-8375-be2fdd9f85c0\", \"impressionDate\": \"2024-01-05T06:57:33\", \"productId\": 780, \"browser\": \"Safari\", \"browserVersion\": \"8.6\", \"device\": \"mobile\", \"source\": \"facebook\", \"ip_address\": \"24.93.183.165\", \"landing_page\": \"http://www.briggs.biz/categories/tagsfaq.html\", \"page_loading_seconds\": 85.23}\n",
      "{\"impressionId\": \"47a5e2e3-f52a-45ce-8904-c3aa29a2c6ed\", \"impressionDate\": \"2024-01-03T06:05:55\", \"productId\": 960, \"browser\": \"Chrome\", \"browserVersion\": \"14.6\", \"device\": \"computer\", \"source\": \"google\", \"ip_address\": \"63.166.255.37\", \"landing_page\": \"http://www.byrd.com/search/list/categoryindex.htm\", \"page_loading_seconds\": 94.65}\n",
      "{\"impressionId\": \"a2b5585a-115c-497a-bb9f-bd76b6a562e2\", \"impressionDate\": \"2024-01-02T11:42:28\", \"productId\": 836, \"browser\": \"Edge\", \"browserVersion\": \"4.5\", \"device\": \"tablet\", \"source\": \"bing\", \"ip_address\": \"26.52.65.255\", \"landing_page\": \"https://barnett.info/app/tagsabout.htm\", \"page_loading_seconds\": 40.31}\n",
      "{\"impressionId\": \"5698d26b-97c6-4be8-9205-a89358694495\", \"impressionDate\": \"2024-01-04T19:31:41\", \"productId\": 864, \"browser\": \"Safari\", \"browserVersion\": \"4.5\", \"device\": \"mobile\", \"source\": \"facebook\", \"ip_address\": \"44.198.18.189\", \"landing_page\": \"http://www.wu-sanders.biz/wp-content/bloghomepage.htm\", \"page_loading_seconds\": 14.65}\n",
      "{\"impressionId\": \"36cd5dfc-68da-45a3-aa7f-4571971b52f3\", \"impressionDate\": \"2024-01-06T07:37:37\", \"productId\": 972, \"browser\": \"Edge\", \"browserVersion\": \"11.2\", \"device\": \"tablet\", \"source\": \"google\", \"ip_address\": \"182.124.189.205\", \"landing_page\": \"https://www.chang.com/main/listsearch.htm\", \"page_loading_seconds\": 29.38}\n",
      "{\"clickId\": \"2566cf52-0219-440a-8634-45641af1e9ab\", \"impressionId\": \"36cd5dfc-68da-45a3-aa7f-4571971b52f3\", \"clickDate\": \"2024-01-06T07:37:37\", \"productId\": 972}\n",
      "{\"impressionId\": \"15e32eb7-8acc-4a60-946c-5de02acf2119\", \"impressionDate\": \"2024-01-08T19:50:33\", \"productId\": 951, \"browser\": \"Chrome\", \"browserVersion\": \"4.5\", \"device\": \"tablet\", \"source\": \"organic\", \"ip_address\": \"1.39.82.29\", \"landing_page\": \"https://davis-dixon.com/list/categoryauthor.html\", \"page_loading_seconds\": 41.03}\n",
      "{\"clickId\": \"0ad4059a-0a11-4e1d-a573-4a11a4bf71c4\", \"impressionId\": \"15e32eb7-8acc-4a60-946c-5de02acf2119\", \"clickDate\": \"2024-01-08T19:50:33\", \"productId\": 951}\n",
      "{\"impressionId\": \"21aa39a3-681d-48da-be5c-469d0b60ab5f\", \"impressionDate\": \"2024-01-05T15:19:37\", \"productId\": 937, \"browser\": \"Firefox\", \"browserVersion\": \"11.2\", \"device\": \"mobile\", \"source\": \"facebook\", \"ip_address\": \"193.94.86.58\", \"landing_page\": \"http://bolton.com/category/bloglogin.jsp\", \"page_loading_seconds\": 92.72}\n",
      "{\"impressionId\": \"989d7404-9f86-4f2a-8830-3bfb8414c28b\", \"impressionDate\": \"2024-01-05T17:18:15\", \"productId\": 718, \"browser\": \"Firefox\", \"browserVersion\": \"10.2\", \"device\": \"mobile\", \"source\": \"bing\", \"ip_address\": \"149.2.62.26\", \"landing_page\": \"http://farmer.com/categoriescategory.html\", \"page_loading_seconds\": 76.61}\n",
      "{\"impressionId\": \"f3da0f54-9c61-456e-bd53-e38e41e59548\", \"impressionDate\": \"2024-01-04T22:58:19\", \"productId\": 979, \"browser\": \"Safari\", \"browserVersion\": \"6.6\", \"device\": \"mobile\", \"source\": \"organic\", \"ip_address\": \"166.4.34.6\", \"landing_page\": \"http://www.rodriguez.biz/tags/app/appfaq.php\", \"page_loading_seconds\": 73.26}\n",
      "{\"impressionId\": \"a6bc489f-0c00-4381-8eef-be273b568ffb\", \"impressionDate\": \"2024-01-02T12:25:40\", \"productId\": 714, \"browser\": \"Safari\", \"browserVersion\": \"6.6\", \"device\": \"computer\", \"source\": \"organic\", \"ip_address\": \"154.141.197.148\", \"landing_page\": \"http://www.poole.info/list/wp-content/taghomepage.asp\", \"page_loading_seconds\": 2.51}\n",
      "{\"impressionId\": \"ccfc778e-badf-45a9-b48a-55bd6fd354b4\", \"impressionDate\": \"2024-01-07T20:51:12\", \"productId\": 874, \"browser\": \"Chrome\", \"browserVersion\": \"6.6\", \"device\": \"mobile\", \"source\": \"facebook\", \"ip_address\": \"170.97.11.187\", \"landing_page\": \"http://www.young.com/category/blogindex.html\", \"page_loading_seconds\": 40.86}\n",
      "{\"impressionId\": \"1f9cf2bd-8c4b-45c2-8ce1-dc2a390291fc\", \"impressionDate\": \"2024-01-08T19:48:56\", \"productId\": 889, \"browser\": \"Edge\", \"browserVersion\": \"8.6\", \"device\": \"mobile\", \"source\": \"bing\", \"ip_address\": \"147.206.183.158\", \"landing_page\": \"https://www.anderson.org/blog/posts/taglogin.php\", \"page_loading_seconds\": 5.97}\n",
      "{\"impressionId\": \"1f95bd88-fba1-4133-94c0-a3a651aa7036\", \"impressionDate\": \"2024-01-08T06:09:15\", \"productId\": 739, \"browser\": \"Firefox\", \"browserVersion\": \"14.6\", \"device\": \"computer\", \"source\": \"facebook\", \"ip_address\": \"75.174.225.26\", \"landing_page\": \"https://www.rhodes.com/mainsearch.htm\", \"page_loading_seconds\": 60.3}\n",
      "{\"impressionId\": \"e8a76fc9-818c-4604-9a33-f9838225c0ed\", \"impressionDate\": \"2024-01-08T02:03:24\", \"productId\": 886, \"browser\": \"Edge\", \"browserVersion\": \"11.2\", \"device\": \"tablet\", \"source\": \"organic\", \"ip_address\": \"207.145.177.175\", \"landing_page\": \"http://www.mcknight.net/list/categorieslogin.jsp\", \"page_loading_seconds\": 61.43}\n",
      "{\"impressionId\": \"a6d9f85d-8699-408f-994c-582f2092fe36\", \"impressionDate\": \"2024-01-05T19:02:18\", \"productId\": 959, \"browser\": \"Firefox\", \"browserVersion\": \"8.6\", \"device\": \"computer\", \"source\": \"google\", \"ip_address\": \"147.142.217.140\", \"landing_page\": \"https://www.white.com/main/categorylogin.htm\", \"page_loading_seconds\": 81.53}\n",
      "{\"impressionId\": \"430364f5-d22d-4bc2-9d9d-c2eef1bcfeb2\", \"impressionDate\": \"2024-01-06T17:43:46\", \"productId\": 869, \"browser\": \"Edge\", \"browserVersion\": \"6.6\", \"device\": \"tablet\", \"source\": \"bing\", \"ip_address\": \"71.168.53.232\", \"landing_page\": \"http://orr-herring.net/postscategory.html\", \"page_loading_seconds\": 17.29}\n",
      "{\"impressionId\": \"a37a18e3-dea0-432a-8164-8e9202464352\", \"impressionDate\": \"2024-01-05T14:06:14\", \"productId\": 988, \"browser\": \"Firefox\", \"browserVersion\": \"14.6\", \"device\": \"computer\", \"source\": \"organic\", \"ip_address\": \"126.38.106.155\", \"landing_page\": \"http://mcgee.com/main/tags/tagpost.htm\", \"page_loading_seconds\": 70.2}\n",
      "{\"impressionId\": \"be28c0c5-80c3-41b5-aa07-d6f139a95264\", \"impressionDate\": \"2024-01-04T07:34:47\", \"productId\": 905, \"browser\": \"Edge\", \"browserVersion\": \"4.5\", \"device\": \"tablet\", \"source\": \"facebook\", \"ip_address\": \"164.10.230.136\", \"landing_page\": \"http://www.norris.org/posts/category/categoriesterms.html\", \"page_loading_seconds\": 14.38}\n",
      "{\"clickId\": \"0c3664c6-d2e3-43d0-b7fa-b35fd8689859\", \"impressionId\": \"be28c0c5-80c3-41b5-aa07-d6f139a95264\", \"clickDate\": \"2024-01-04T07:34:47\", \"productId\": 905}\n",
      "{\"impressionId\": \"30f29f0b-dc80-426b-a01c-a34b06e73be3\", \"impressionDate\": \"2024-01-06T05:46:54\", \"productId\": 722, \"browser\": \"Firefox\", \"browserVersion\": \"10.2\", \"device\": \"mobile\", \"source\": \"organic\", \"ip_address\": \"3.208.135.6\", \"landing_page\": \"http://www.davenport.biz/main/wp-content/categorieshomepage.html\", \"page_loading_seconds\": 36.69}\n",
      "{\"impressionId\": \"a4f3192f-f86e-429e-b1e3-2f025f4e8ce2\", \"impressionDate\": \"2024-01-06T23:19:08\", \"productId\": 918, \"browser\": \"Firefox\", \"browserVersion\": \"8.6\", \"device\": \"tablet\", \"source\": \"bing\", \"ip_address\": \"37.37.123.2\", \"landing_page\": \"http://www.white.com/category/categories/listindex.php\", \"page_loading_seconds\": 47.4}\n",
      "{\"clickId\": \"a15989c7-4b81-48d0-90de-172f0b94e5f2\", \"impressionId\": \"a4f3192f-f86e-429e-b1e3-2f025f4e8ce2\", \"clickDate\": \"2024-01-06T23:19:08\", \"productId\": 918}\n"
     ]
    }
   ],
   "source": [
    "# generate anomalies in load time\n",
    "generateEvents(False, True)"
   ]
  }
 ],
 "metadata": {
  "kernelspec": {
   "display_name": ".venv",
   "language": "python",
   "name": "python3"
  },
  "language_info": {
   "codemirror_mode": {
    "name": "ipython",
    "version": 3
   },
   "file_extension": ".py",
   "mimetype": "text/x-python",
   "name": "python",
   "nbconvert_exporter": "python",
   "pygments_lexer": "ipython3",
   "version": "3.10.11"
  },
  "orig_nbformat": 4
 },
 "nbformat": 4,
 "nbformat_minor": 2
}
