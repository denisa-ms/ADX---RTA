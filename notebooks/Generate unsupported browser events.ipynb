{
 "cells": [
  {
   "cell_type": "code",
   "execution_count": 1,
   "metadata": {},
   "outputs": [],
   "source": [
    "import json\n",
    "from azure.eventhub import EventHubProducerClient, EventData\n",
    "from dotenv import load_dotenv\n",
    "import os\n",
    "import socket\n",
    "import random\n",
    "\n",
    "from random import randrange\n",
    "\n",
    "load_dotenv()\n",
    "EVENT_HUB_CONN_STRING = os.getenv(\"EVENT_HUB_CONN_STRING\") \n",
    "EVENT_HUB_NAME_IMPRESSIONS = os.getenv(\"EVENT_HUB_NAME_IMPRESSIONS\")\n",
    "EVENT_HUB_NAME_CLICKS = os.getenv(\"EVENT_HUB_NAME_CLICKS\")\n",
    "\n",
    "eventHubConnString = EVENT_HUB_CONN_STRING\n",
    "eventHubNameImpressions = EVENT_HUB_NAME_IMPRESSIONS\n",
    "eventHubNameClicks = EVENT_HUB_NAME_CLICKS\n",
    "\n",
    "producer_impressions = EventHubProducerClient.from_connection_string(conn_str=eventHubConnString, eventhub_name=eventHubNameImpressions)\n",
    "producer_clicks = EventHubProducerClient.from_connection_string(conn_str=eventHubConnString, eventhub_name=eventHubNameClicks)\n",
    "\n",
    "hostname = socket.gethostname()"
   ]
  },
  {
   "cell_type": "code",
   "execution_count": 2,
   "metadata": {},
   "outputs": [],
   "source": [
    "from utils import generateClickEvent, generateImpressionEvent\n",
    "\n",
    "def sendToEventsHub(jsonEvent, producer):\n",
    "    eventString = json.dumps(jsonEvent)\n",
    "    print(eventString) \n",
    "    event_data_batch = producer.create_batch() \n",
    "    event_data_batch.add(EventData(eventString)) \n",
    "    producer.send_batch(event_data_batch)\n",
    "\n",
    "def generateEvents(isUnsupportedBrowser = False, isAnomaly = False):\n",
    "    try:\n",
    "        while True:\n",
    "            impressionEvent = generateImpressionEvent(isUnsupportedBrowser, isAnomaly, None)    \n",
    "            sendToEventsHub(impressionEvent, producer_impressions)\n",
    "            if random.randint(1, 100) > 80:\n",
    "                clickEvent = generateClickEvent(impressionEvent)    \n",
    "                sendToEventsHub(clickEvent, producer_clicks)\n",
    "    except KeyboardInterrupt:\n",
    "        producer_impressions.close()\n",
    "        producer_clicks.close()\n"
   ]
  },
  {
   "cell_type": "code",
   "execution_count": null,
   "metadata": {},
   "outputs": [],
   "source": [
    "#generate unsupported browser events\n",
    "generateEvents(True, False)"
   ]
  }
 ],
 "metadata": {
  "kernelspec": {
   "display_name": ".venv",
   "language": "python",
   "name": "python3"
  },
  "language_info": {
   "codemirror_mode": {
    "name": "ipython",
    "version": 3
   },
   "file_extension": ".py",
   "mimetype": "text/x-python",
   "name": "python",
   "nbconvert_exporter": "python",
   "pygments_lexer": "ipython3",
   "version": "3.10.11"
  },
  "orig_nbformat": 4
 },
 "nbformat": 4,
 "nbformat_minor": 2
}
