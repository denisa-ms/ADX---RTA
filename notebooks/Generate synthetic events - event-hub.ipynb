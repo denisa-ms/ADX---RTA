{
 "cells": [
  {
   "cell_type": "code",
   "execution_count": 1,
   "metadata": {},
   "outputs": [],
   "source": [
    "import json\n",
    "from azure.eventhub import EventHubProducerClient, EventData\n",
    "from dotenv import load_dotenv\n",
    "import os\n",
    "import socket\n",
    "import random\n",
    "\n",
    "from random import randrange\n",
    "\n",
    "load_dotenv()\n",
    "EVENT_HUB_CONN_STRING = os.getenv(\"EVENT_HUB_CONN_STRING\") \n",
    "EVENT_HUB_NAME_IMPRESSIONS = os.getenv(\"EVENT_HUB_NAME_IMPRESSIONS\")\n",
    "EVENT_HUB_NAME_CLICKS = os.getenv(\"EVENT_HUB_NAME_CLICKS\")\n",
    "\n",
    "eventHubConnString = EVENT_HUB_CONN_STRING\n",
    "eventHubNameImpressions = EVENT_HUB_NAME_IMPRESSIONS\n",
    "eventHubNameClicks = EVENT_HUB_NAME_CLICKS\n",
    "\n",
    "producer_impressions = EventHubProducerClient.from_connection_string(conn_str=eventHubConnString, eventhub_name=eventHubNameImpressions)\n",
    "producer_clicks = EventHubProducerClient.from_connection_string(conn_str=eventHubConnString, eventhub_name=eventHubNameClicks)\n",
    "\n",
    "hostname = socket.gethostname()"
   ]
  },
  {
   "cell_type": "code",
   "execution_count": 2,
   "metadata": {},
   "outputs": [],
   "source": [
    "from utils import generateClickEvent, generateImpressionEvent\n",
    "\n",
    "def sendToEventsHub(jsonEvent, producer):\n",
    "    eventString = json.dumps(jsonEvent)\n",
    "    print(eventString) \n",
    "    event_data_batch = producer.create_batch() \n",
    "    event_data_batch.add(EventData(eventString)) \n",
    "    producer.send_batch(event_data_batch)\n",
    "\n",
    "def generateEvents(isUnsupportedBrowser = False, isAnomaly = False):\n",
    "    try:\n",
    "        while True:\n",
    "            impressionEvent = generateImpressionEvent(isUnsupportedBrowser, isAnomaly, None)    \n",
    "            sendToEventsHub(impressionEvent, producer_impressions)\n",
    "            if random.randint(1, 100) > 80:\n",
    "                clickEvent = generateClickEvent(impressionEvent)    \n",
    "                sendToEventsHub(clickEvent, producer_clicks)\n",
    "    except KeyboardInterrupt:\n",
    "        producer_impressions.close()\n",
    "        producer_clicks.close()\n"
   ]
  },
  {
   "cell_type": "code",
   "execution_count": 3,
   "metadata": {},
   "outputs": [
    {
     "name": "stdout",
     "output_type": "stream",
     "text": [
      "{\"impressionId\": \"6b2860e8-a22d-4cf3-a622-948d38225476\", \"impressionDate\": \"2024-01-04T06:23:34\", \"productId\": 858, \"browser\": \"Firefox\", \"browserVersion\": \"4.5\", \"device\": \"computer\", \"source\": \"bing\", \"ip_address\": \"152.117.157.29\", \"landing_page\": \"https://www.foster-frazier.com/category/tagpost.php\", \"page_loading_seconds\": 0.854}\n",
      "{\"impressionId\": \"6b2860e8-a22d-4cf3-a622-948d38225476\", \"clickDate\": \"2024-01-04T06:23:34\", \"productId\": 858}\n",
      "{\"impressionId\": \"4c1bbf3f-ddc7-49a2-8281-97b8e255c125\", \"impressionDate\": \"2024-01-05T23:31:52\", \"productId\": 917, \"browser\": \"Safari\", \"browserVersion\": \"13.6\", \"device\": \"computer\", \"source\": \"bing\", \"ip_address\": \"213.18.244.238\", \"landing_page\": \"http://www.williams.com/searchindex.htm\", \"page_loading_seconds\": 5.622}\n",
      "{\"impressionId\": \"c06f6380-6d5c-4779-af85-a5749a33a1eb\", \"impressionDate\": \"2024-01-03T20:09:28\", \"productId\": 838, \"browser\": \"Chrome\", \"browserVersion\": \"14.6\", \"device\": \"computer\", \"source\": \"google\", \"ip_address\": \"213.14.24.185\", \"landing_page\": \"http://www.bowen.com/list/blogindex.html\", \"page_loading_seconds\": 6.957}\n",
      "{\"impressionId\": \"c06f6380-6d5c-4779-af85-a5749a33a1eb\", \"clickDate\": \"2024-01-03T20:09:28\", \"productId\": 838}\n",
      "{\"impressionId\": \"7ee41aa3-373d-4523-9709-8f9f476a8c09\", \"impressionDate\": \"2024-01-01T20:09:11\", \"productId\": 970, \"browser\": \"Firefox\", \"browserVersion\": \"4.5\", \"device\": \"mobile\", \"source\": \"facebook\", \"ip_address\": \"169.139.233.126\", \"landing_page\": \"http://fowler.com/listpost.asp\", \"page_loading_seconds\": 7.578}\n",
      "{\"impressionId\": \"7ee41aa3-373d-4523-9709-8f9f476a8c09\", \"clickDate\": \"2024-01-01T20:09:11\", \"productId\": 970}\n",
      "{\"impressionId\": \"be7fef11-953a-4272-aade-60b1b54ab623\", \"impressionDate\": \"2024-01-03T11:54:16\", \"productId\": 896, \"browser\": \"Safari\", \"browserVersion\": \"14.6\", \"device\": \"computer\", \"source\": \"google\", \"ip_address\": \"134.204.245.140\", \"landing_page\": \"https://www.brown.com/apphomepage.php\", \"page_loading_seconds\": 7.84}\n",
      "{\"impressionId\": \"5eff37ca-d66c-4129-b096-c006cf1df8e2\", \"impressionDate\": \"2024-01-05T09:00:46\", \"productId\": 779, \"browser\": \"Firefox\", \"browserVersion\": \"10.2\", \"device\": \"tablet\", \"source\": \"google\", \"ip_address\": \"89.23.26.72\", \"landing_page\": \"http://www.brooks.com/blog/blog/mainmain.html\", \"page_loading_seconds\": 6.308}\n",
      "{\"impressionId\": \"b0eaf2ca-f8b1-4210-a88d-ff48c46abe56\", \"impressionDate\": \"2024-01-01T13:56:05\", \"productId\": 965, \"browser\": \"Chrome\", \"browserVersion\": \"6.6\", \"device\": \"computer\", \"source\": \"organic\", \"ip_address\": \"104.125.99.25\", \"landing_page\": \"https://www.porter.biz/postsregister.html\", \"page_loading_seconds\": 1.315}\n",
      "{\"impressionId\": \"247c575b-1272-4e4a-850e-286122cd2b25\", \"impressionDate\": \"2024-01-06T15:19:26\", \"productId\": 908, \"browser\": \"Safari\", \"browserVersion\": \"11.2\", \"device\": \"computer\", \"source\": \"organic\", \"ip_address\": \"119.137.10.150\", \"landing_page\": \"https://www.mills-mitchell.info/blogsearch.php\", \"page_loading_seconds\": 8.732}\n",
      "{\"impressionId\": \"247c575b-1272-4e4a-850e-286122cd2b25\", \"clickDate\": \"2024-01-06T15:19:26\", \"productId\": 908}\n",
      "{\"impressionId\": \"bc46c770-c8f6-4574-9914-c12e38cb1fbe\", \"impressionDate\": \"2024-01-05T22:54:26\", \"productId\": 809, \"browser\": \"Edge\", \"browserVersion\": \"10.2\", \"device\": \"computer\", \"source\": \"google\", \"ip_address\": \"105.126.8.156\", \"landing_page\": \"http://hester.com/search/blog/bloghome.html\", \"page_loading_seconds\": 9.959}\n",
      "{\"impressionId\": \"684c5b02-809a-4920-bcc0-b740ccd51547\", \"impressionDate\": \"2023-12-31T17:53:15\", \"productId\": 982, \"browser\": \"Chrome\", \"browserVersion\": \"8.6\", \"device\": \"computer\", \"source\": \"facebook\", \"ip_address\": \"59.229.253.237\", \"landing_page\": \"https://www.kelley-bennett.com/list/posts/appcategory.php\", \"page_loading_seconds\": 2.372}\n",
      "{\"impressionId\": \"ae10104f-8a3f-4913-bc77-70758276b73e\", \"impressionDate\": \"2024-01-05T21:24:08\", \"productId\": 947, \"browser\": \"Safari\", \"browserVersion\": \"11.2\", \"device\": \"tablet\", \"source\": \"bing\", \"ip_address\": \"84.23.156.134\", \"landing_page\": \"http://smith.com/listhome.jsp\", \"page_loading_seconds\": 4.577}\n"
     ]
    }
   ],
   "source": [
    "generateEvents(False, False)"
   ]
  },
  {
   "cell_type": "code",
   "execution_count": null,
   "metadata": {},
   "outputs": [],
   "source": [
    "#generate unsupported browser events\n",
    "generateEvents(True, False)"
   ]
  },
  {
   "cell_type": "code",
   "execution_count": null,
   "metadata": {},
   "outputs": [],
   "source": [
    "# generate anomalies in load time\n",
    "generateEvents(False, True)"
   ]
  },
  {
   "cell_type": "code",
   "execution_count": null,
   "metadata": {},
   "outputs": [],
   "source": [
    "# generate fake impressions-orders events for demo\n",
    "import pyodbc \n",
    "import json\n",
    "from dotenv import load_dotenv\n",
    "import os\n",
    "\n",
    "load_dotenv()\n",
    "\n",
    "SQL_SERVER = os.getenv(\"SQL_SERVER\") \n",
    "SQL_USER = os.getenv(\"SQL_USER\")\n",
    "SQL_PWD = os.getenv(\"SQL_PWD\")\n",
    "SQL_DBNAME = os.getenv(\"SQL_DBNAME\")\n",
    "SQL_DRIVER = \"SQL SERVER\"\n",
    "connectionString = f'DRIVER={SQL_DRIVER};SERVER={SQL_SERVER};DATABASE={SQL_DBNAME};UID={SQL_USER};PWD={SQL_PWD}'\n",
    "conn = pyodbc.connect(connectionString)\n",
    "\n",
    "import pandas as pd\n",
    "sql_query = \"\"\"\n",
    "  SELECT  [SalesOrderID],[SalesOrderDetailID],[ProductID]\n",
    "  FROM [SalesLT].[SalesOrderDetail]\n",
    "\"\"\"\n",
    "\n",
    "df = pd.read_sql_query(sql_query, conn)\n",
    "df.head()\n"
   ]
  },
  {
   "cell_type": "code",
   "execution_count": null,
   "metadata": {},
   "outputs": [],
   "source": [
    "for index, row in df.iterrows():\n",
    "    salesOrderId = row['SalesOrderID']\n",
    "    productId = row['ProductID']\n",
    "    #generate click and impression events\n",
    "    impressionEvent = generateImpressionEvent()"
   ]
  }
 ],
 "metadata": {
  "kernelspec": {
   "display_name": ".venv",
   "language": "python",
   "name": "python3"
  },
  "language_info": {
   "codemirror_mode": {
    "name": "ipython",
    "version": 3
   },
   "file_extension": ".py",
   "mimetype": "text/x-python",
   "name": "python",
   "nbconvert_exporter": "python",
   "pygments_lexer": "ipython3",
   "version": "3.10.11"
  },
  "orig_nbformat": 4
 },
 "nbformat": 4,
 "nbformat_minor": 2
}
