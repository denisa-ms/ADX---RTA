{
 "cells": [
  {
   "cell_type": "code",
   "execution_count": 4,
   "metadata": {},
   "outputs": [],
   "source": [
    "import json\n",
    "from azure.eventhub import EventHubProducerClient, EventData\n",
    "from dotenv import load_dotenv\n",
    "import os\n",
    "import socket\n",
    "import random\n",
    "from faker import Faker\n",
    "from random import randrange\n",
    "\n",
    "load_dotenv()\n",
    "EVENT_HUB_CONN_STRING = os.getenv(\"EVENT_HUB_CONN_STRING\") \n",
    "EVENT_HUB_NAME_IMPRESSIONS = os.getenv(\"EVENT_HUB_NAME_IMPRESSIONS\")\n",
    "EVENT_HUB_NAME_CLICKS = os.getenv(\"EVENT_HUB_NAME_CLICKS\")\n",
    "\n",
    "eventHubConnString = EVENT_HUB_CONN_STRING\n",
    "eventHubNameImpressions = EVENT_HUB_NAME_IMPRESSIONS\n",
    "eventHubNameClicks = EVENT_HUB_NAME_CLICKS\n",
    "\n",
    "producer_impressions = EventHubProducerClient.from_connection_string(conn_str=eventHubConnString, eventhub_name=eventHubNameImpressions)\n",
    "producer_clicks = EventHubProducerClient.from_connection_string(conn_str=eventHubConnString, eventhub_name=eventHubNameClicks)\n",
    "\n",
    "hostname = socket.gethostname()"
   ]
  },
  {
   "cell_type": "code",
   "execution_count": 6,
   "metadata": {},
   "outputs": [],
   "source": [
    "\n",
    "productIds = [707,708,711,712,714,715,716,717,718,722,738,739,742,743,747,748,779,780,781,782,783,784,792,793,794,795,796,797,798,799,800,801,808,809,810,813,822,835,836,838,858,859,860,864,865,867,868,869,870,873,874,875,876,877,880,881,883,884,885,886,889,891,892,893,894,895,896,899,900,904,905,907,908,909,910,913,916,917,918,920,924,925,926,935,936,937,938,939,940,944,945,947,948,949,951,952,953,954,955,956,957,958,959,960,961,962,963,964,965,966,967,968,969,970,971,972,973,974,975,976,977,978,979,980,981,982,983,984,985,986,987,988,989,990,991,992,993,994,996,997,998,999]\n",
    "\n",
    "def generateClickEvent(impressionEvent):\n",
    "    faker = Faker()\n",
    "    click = {}\n",
    "    click[\"clickId\"] = faker.uuid4()\n",
    "    click[\"impressionId\"] = impressionEvent[\"impressionId\"]\n",
    "    click[\"clickDate\"] = impressionEvent[\"impressionDate\"]\n",
    "    click[\"productId\"] = impressionEvent[\"productId\"]\n",
    "    return click\n",
    "\n",
    "\n",
    "def generateImpressionEvent(isUnsupportedBrowser, isAnomaly):\n",
    "    faker = Faker()\n",
    "    impression = {}\n",
    "    impression[\"impressionId\"] = faker.uuid4()\n",
    "    impression[\"impressionDate\"] = faker.date_time_between(start_date=\"-1w\", end_date=\"now\").isoformat()\n",
    "    impression[\"productId\"] = faker.random_element(productIds)\n",
    "    if isUnsupportedBrowser:\n",
    "        impression[\"browser\"] = \"unsupported\"\n",
    "    else:\n",
    "        impression[\"browser\"] = faker.random_element([\"Edge\", \"Chrome\", \"Safari\", \"Firefox\"])\n",
    "    impression[\"browserVersion\"] = faker.random_element([\"10.2\", \"13.6\", \"8.6\", \"8.5\", \"11.2\", \"14.6\", \"6.6\", \"4.5\"])\n",
    "    impression[\"device\"] = faker.random_element([\"mobile\", \"computer\", \"tablet\", \"mobile\", \"computer\"])\n",
    "    impression[\"source\"] = faker.random_element( [\"organic\", \"bing\", \"google\", \"facebook\"])\n",
    "    impression[\"ip_address\"] = faker.ipv4()\n",
    "    impression[\"landing_page\"] = faker.uri()\n",
    "    if isAnomaly:\n",
    "        impression[\"page_loading_seconds\"] = faker.random_number(4)/100\n",
    "    else:\n",
    "        impression[\"page_loading_seconds\"] = faker.random_number(4)/1000\n",
    "    return impression\n",
    "\n",
    "\n",
    "def sendToEventsHub(jsonEvent, producer):\n",
    "    eventString = json.dumps(jsonEvent)\n",
    "    print(eventString) \n",
    "    event_data_batch = producer.create_batch() \n",
    "    event_data_batch.add(EventData(eventString)) \n",
    "    producer.send_batch(event_data_batch)\n",
    "\n",
    "def generateEvents(isUnsupportedBrowser = False, isAnomaly = False):\n",
    "    try:\n",
    "        while True:\n",
    "            impressionEvent = generateImpressionEvent(isUnsupportedBrowser, isAnomaly)    \n",
    "            sendToEventsHub(impressionEvent, producer_impressions)\n",
    "            if random.randint(1, 100) > 80:\n",
    "                clickEvent = generateClickEvent(impressionEvent)    \n",
    "                sendToEventsHub(clickEvent, producer_clicks)\n",
    "    except KeyboardInterrupt:\n",
    "        producer_impressions.close()\n",
    "        producer_clicks.close()\n"
   ]
  },
  {
   "cell_type": "code",
   "execution_count": null,
   "metadata": {},
   "outputs": [],
   "source": [
    "generateEvents(False, False)"
   ]
  },
  {
   "cell_type": "code",
   "execution_count": null,
   "metadata": {},
   "outputs": [],
   "source": [
    "#generate unsupported browser events\n",
    "generateEvents(True, False)"
   ]
  },
  {
   "cell_type": "code",
   "execution_count": null,
   "metadata": {},
   "outputs": [],
   "source": [
    "# generate anomalies in load time\n",
    "generateEvents(False, True)"
   ]
  },
  {
   "cell_type": "code",
   "execution_count": null,
   "metadata": {},
   "outputs": [],
   "source": [
    "# generate fake impressions-orders events for demo\n",
    "import pyodbc \n",
    "import json\n",
    "from dotenv import load_dotenv\n",
    "import os\n",
    "\n",
    "load_dotenv()\n",
    "\n",
    "SQL_SERVER = os.getenv(\"SQL_SERVER\") \n",
    "SQL_USER = os.getenv(\"SQL_USER\")\n",
    "SQL_PWD = os.getenv(\"SQL_PWD\")\n",
    "SQL_DBNAME = os.getenv(\"SQL_DBNAME\")\n",
    "SQL_DRIVER = \"SQL SERVER\"\n",
    "connectionString = f'DRIVER={SQL_DRIVER};SERVER={SQL_SERVER};DATABASE={SQL_DBNAME};UID={SQL_USER};PWD={SQL_PWD}'\n",
    "conn = pyodbc.connect(connectionString)\n",
    "\n",
    "import pandas as pd\n",
    "sql_query = \"\"\"\n",
    "  SELECT  [SalesOrderID],[SalesOrderDetailID],[ProductID]\n",
    "  FROM [SalesLT].[SalesOrderDetail]\n",
    "\"\"\"\n",
    "\n",
    "df = pd.read_sql_query(sql_query, conn)\n",
    "df.head()\n"
   ]
  },
  {
   "cell_type": "code",
   "execution_count": null,
   "metadata": {},
   "outputs": [],
   "source": [
    "for index, row in df.iterrows():\n",
    "    salesOrderId = row['SalesOrderID']\n",
    "    productId = row['ProductID']\n",
    "    #generate click and impression events\n",
    "    impressionEvent = generateImpressionEvent()"
   ]
  }
 ],
 "metadata": {
  "kernelspec": {
   "display_name": ".venv",
   "language": "python",
   "name": "python3"
  },
  "language_info": {
   "codemirror_mode": {
    "name": "ipython",
    "version": 3
   },
   "file_extension": ".py",
   "mimetype": "text/x-python",
   "name": "python",
   "nbconvert_exporter": "python",
   "pygments_lexer": "ipython3",
   "version": "3.10.11"
  },
  "orig_nbformat": 4
 },
 "nbformat": 4,
 "nbformat_minor": 2
}
