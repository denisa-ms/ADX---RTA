{
 "cells": [
  {
   "cell_type": "code",
   "execution_count": 1,
   "metadata": {},
   "outputs": [],
   "source": [
    "import json\n",
    "from azure.eventhub import EventHubProducerClient, EventData\n",
    "from dotenv import load_dotenv\n",
    "import os\n",
    "import socket\n",
    "import random\n",
    "\n",
    "from random import randrange\n",
    "\n",
    "load_dotenv()\n",
    "EVENT_HUB_CONN_STRING = os.getenv(\"EVENT_HUB_CONN_STRING\") \n",
    "EVENT_HUB_NAME_IMPRESSIONS = os.getenv(\"EVENT_HUB_NAME_IMPRESSIONS\")\n",
    "EVENT_HUB_NAME_CLICKS = os.getenv(\"EVENT_HUB_NAME_CLICKS\")\n",
    "\n",
    "eventHubConnString = EVENT_HUB_CONN_STRING\n",
    "eventHubNameImpressions = EVENT_HUB_NAME_IMPRESSIONS\n",
    "eventHubNameClicks = EVENT_HUB_NAME_CLICKS\n",
    "\n",
    "producer_impressions = EventHubProducerClient.from_connection_string(conn_str=eventHubConnString, eventhub_name=eventHubNameImpressions)\n",
    "producer_clicks = EventHubProducerClient.from_connection_string(conn_str=eventHubConnString, eventhub_name=eventHubNameClicks)\n",
    "\n",
    "hostname = socket.gethostname()"
   ]
  },
  {
   "cell_type": "code",
   "execution_count": 2,
   "metadata": {},
   "outputs": [],
   "source": [
    "from utils import generateClickEvent, generateImpressionEvent\n",
    "\n",
    "def sendToEventsHub(jsonEvent, producer):\n",
    "    eventString = json.dumps(jsonEvent)\n",
    "    print(eventString) \n",
    "    event_data_batch = producer.create_batch() \n",
    "    event_data_batch.add(EventData(eventString)) \n",
    "    producer.send_batch(event_data_batch)\n",
    "\n",
    "def generateEvents(isUnsupportedBrowser = False, isAnomaly = False):\n",
    "    try:\n",
    "        while True:\n",
    "            impressionEvent = generateImpressionEvent(isUnsupportedBrowser, isAnomaly, None)    \n",
    "            sendToEventsHub(impressionEvent, producer_impressions)\n",
    "            if random.randint(1, 100) > 80:\n",
    "                clickEvent = generateClickEvent(impressionEvent)    \n",
    "                sendToEventsHub(clickEvent, producer_clicks)\n",
    "    except KeyboardInterrupt:\n",
    "        producer_impressions.close()\n",
    "        producer_clicks.close()\n"
   ]
  },
  {
   "cell_type": "code",
   "execution_count": 3,
   "metadata": {},
   "outputs": [
    {
     "name": "stdout",
     "output_type": "stream",
     "text": [
      "{\"impressionId\": \"b82c74d1-1f49-4b11-a515-4276cfb4f500\", \"impressionDate\": \"2024-01-06T03:27:10\", \"productId\": 797, \"browser\": \"Firefox\", \"browserVersion\": \"13.6\", \"device\": \"computer\", \"source\": \"bing\", \"ip_address\": \"208.15.61.99\", \"landing_page\": \"http://clark.com/blog/posts/mainhome.html\", \"page_loading_seconds\": 5.37}\n",
      "{\"clickId\": \"2d149d3f-dff5-497d-ac07-61407d375656\", \"impressionId\": \"b82c74d1-1f49-4b11-a515-4276cfb4f500\", \"clickDate\": \"2024-01-06T03:27:10\", \"productId\": 797}\n",
      "{\"impressionId\": \"70686220-f22b-4222-920f-dfad1295e7cb\", \"impressionDate\": \"2024-01-03T12:10:21\", \"productId\": 792, \"browser\": \"Chrome\", \"browserVersion\": \"6.6\", \"device\": \"computer\", \"source\": \"bing\", \"ip_address\": \"180.131.118.240\", \"landing_page\": \"https://www.hancock-bailey.info/explore/searchlogin.htm\", \"page_loading_seconds\": 4.693}\n",
      "{\"impressionId\": \"22b1e52b-a8a7-497d-8429-fbda341b7344\", \"impressionDate\": \"2024-01-02T06:11:32\", \"productId\": 960, \"browser\": \"Edge\", \"browserVersion\": \"4.5\", \"device\": \"mobile\", \"source\": \"bing\", \"ip_address\": \"167.87.29.136\", \"landing_page\": \"http://hammond.com/tags/posts/wp-contentterms.jsp\", \"page_loading_seconds\": 9.543}\n",
      "{\"impressionId\": \"202a083d-7121-46c6-b1bd-4e16f4d9379c\", \"impressionDate\": \"2024-01-03T06:09:02\", \"productId\": 917, \"browser\": \"Chrome\", \"browserVersion\": \"8.6\", \"device\": \"mobile\", \"source\": \"facebook\", \"ip_address\": \"46.186.142.219\", \"landing_page\": \"http://www.jefferson.com/list/explore/blogprivacy.htm\", \"page_loading_seconds\": 2.843}\n",
      "{\"impressionId\": \"af4dde7f-b47c-4b20-ab56-24efd16d0075\", \"impressionDate\": \"2024-01-02T09:25:25\", \"productId\": 983, \"browser\": \"Chrome\", \"browserVersion\": \"10.2\", \"device\": \"mobile\", \"source\": \"facebook\", \"ip_address\": \"219.30.170.186\", \"landing_page\": \"https://martinez-king.biz/category/postsmain.asp\", \"page_loading_seconds\": 4.772}\n",
      "{\"impressionId\": \"b65bddb4-3e91-4a9b-9778-50a19b0f7723\", \"impressionDate\": \"2024-01-07T22:42:37\", \"productId\": 899, \"browser\": \"Safari\", \"browserVersion\": \"13.6\", \"device\": \"computer\", \"source\": \"bing\", \"ip_address\": \"65.168.223.126\", \"landing_page\": \"https://shaw.com/wp-content/wp-contentpost.html\", \"page_loading_seconds\": 6.15}\n",
      "{\"impressionId\": \"7402dd9f-849e-4644-9c89-c117a0aa9817\", \"impressionDate\": \"2024-01-06T19:13:36\", \"productId\": 972, \"browser\": \"Safari\", \"browserVersion\": \"6.6\", \"device\": \"computer\", \"source\": \"google\", \"ip_address\": \"215.138.221.15\", \"landing_page\": \"https://www.castro.net/postscategory.php\", \"page_loading_seconds\": 4.131}\n",
      "{\"impressionId\": \"6dfbf4c1-7b2e-4b0d-a3bc-16a64db07d6f\", \"impressionDate\": \"2024-01-04T03:13:46\", \"productId\": 944, \"browser\": \"Safari\", \"browserVersion\": \"4.5\", \"device\": \"computer\", \"source\": \"google\", \"ip_address\": \"38.175.234.171\", \"landing_page\": \"http://www.harris-buchanan.com/categories/tag/mainregister.html\", \"page_loading_seconds\": 4.332}\n",
      "{\"clickId\": \"e125d0cf-4d12-4164-9de2-50e233d78918\", \"impressionId\": \"6dfbf4c1-7b2e-4b0d-a3bc-16a64db07d6f\", \"clickDate\": \"2024-01-04T03:13:46\", \"productId\": 944}\n",
      "{\"impressionId\": \"78b5d043-9dee-431f-8ee7-f6884f60803b\", \"impressionDate\": \"2024-01-03T12:56:50\", \"productId\": 864, \"browser\": \"Edge\", \"browserVersion\": \"14.6\", \"device\": \"computer\", \"source\": \"facebook\", \"ip_address\": \"208.90.20.250\", \"landing_page\": \"http://www.collier.org/tags/posts/mainlogin.html\", \"page_loading_seconds\": 2.659}\n",
      "{\"impressionId\": \"1e09d609-f455-483c-8728-9475a66f736b\", \"impressionDate\": \"2024-01-08T02:54:58\", \"productId\": 936, \"browser\": \"Chrome\", \"browserVersion\": \"11.2\", \"device\": \"mobile\", \"source\": \"bing\", \"ip_address\": \"59.33.43.22\", \"landing_page\": \"http://merritt-george.com/blogindex.htm\", \"page_loading_seconds\": 6.593}\n",
      "{\"impressionId\": \"0d9c023b-6173-4092-8e9e-08de9b5ec918\", \"impressionDate\": \"2024-01-02T16:06:11\", \"productId\": 969, \"browser\": \"Chrome\", \"browserVersion\": \"6.6\", \"device\": \"computer\", \"source\": \"facebook\", \"ip_address\": \"137.112.223.0\", \"landing_page\": \"https://smith-baird.com/categories/wp-content/tagsabout.jsp\", \"page_loading_seconds\": 6.5}\n",
      "{\"impressionId\": \"71758edf-67f4-4f15-927f-962e417cb845\", \"impressionDate\": \"2024-01-02T02:11:30\", \"productId\": 988, \"browser\": \"Chrome\", \"browserVersion\": \"8.5\", \"device\": \"mobile\", \"source\": \"google\", \"ip_address\": \"193.243.105.141\", \"landing_page\": \"http://www.harrison.com/search/appauthor.php\", \"page_loading_seconds\": 0.791}\n",
      "{\"impressionId\": \"07b58597-e29a-4f74-a826-527017fee8cc\", \"impressionDate\": \"2024-01-02T21:52:45\", \"productId\": 924, \"browser\": \"Firefox\", \"browserVersion\": \"8.5\", \"device\": \"tablet\", \"source\": \"facebook\", \"ip_address\": \"33.213.177.206\", \"landing_page\": \"https://jackson.biz/main/wp-content/categoryhomepage.html\", \"page_loading_seconds\": 6.623}\n",
      "{\"clickId\": \"c27f9704-5eee-4a3f-b28a-a21bb6f5d99a\", \"impressionId\": \"07b58597-e29a-4f74-a826-527017fee8cc\", \"clickDate\": \"2024-01-02T21:52:45\", \"productId\": 924}\n",
      "{\"impressionId\": \"fcb9653f-5f3f-47cd-a0de-25efd39f150f\", \"impressionDate\": \"2024-01-03T22:53:35\", \"productId\": 964, \"browser\": \"Edge\", \"browserVersion\": \"14.6\", \"device\": \"computer\", \"source\": \"facebook\", \"ip_address\": \"26.77.82.126\", \"landing_page\": \"http://smith.com/category/category/tagshome.php\", \"page_loading_seconds\": 8.527}\n",
      "{\"impressionId\": \"6265ef9e-fb11-4b52-a8ae-f1dbf5cee8aa\", \"impressionDate\": \"2024-01-05T18:26:01\", \"productId\": 982, \"browser\": \"Edge\", \"browserVersion\": \"14.6\", \"device\": \"mobile\", \"source\": \"organic\", \"ip_address\": \"197.132.212.206\", \"landing_page\": \"http://andrews.biz/list/list/tagsfaq.asp\", \"page_loading_seconds\": 6.965}\n",
      "{\"impressionId\": \"cbc101f7-0d9c-4998-b527-87a6389ec42b\", \"impressionDate\": \"2024-01-02T17:24:11\", \"productId\": 838, \"browser\": \"Edge\", \"browserVersion\": \"8.5\", \"device\": \"computer\", \"source\": \"organic\", \"ip_address\": \"217.37.139.42\", \"landing_page\": \"http://www.newton-smith.com/tagsfaq.html\", \"page_loading_seconds\": 7.928}\n",
      "{\"clickId\": \"f357fc5b-eddf-4060-a26b-c0d5932d01a3\", \"impressionId\": \"cbc101f7-0d9c-4998-b527-87a6389ec42b\", \"clickDate\": \"2024-01-02T17:24:11\", \"productId\": 838}\n",
      "{\"impressionId\": \"665c82b3-d176-419a-81f9-37bbc93bd3ed\", \"impressionDate\": \"2024-01-03T00:03:26\", \"productId\": 795, \"browser\": \"Chrome\", \"browserVersion\": \"4.5\", \"device\": \"computer\", \"source\": \"google\", \"ip_address\": \"29.48.81.225\", \"landing_page\": \"http://rosario.biz/wp-contentfaq.htm\", \"page_loading_seconds\": 6.737}\n",
      "{\"impressionId\": \"8cd9baf4-5746-43f3-9bab-24af0733d8bb\", \"impressionDate\": \"2024-01-06T07:19:12\", \"productId\": 909, \"browser\": \"Firefox\", \"browserVersion\": \"10.2\", \"device\": \"computer\", \"source\": \"google\", \"ip_address\": \"88.203.167.241\", \"landing_page\": \"http://www.morales-miller.net/wp-content/posts/mainlogin.php\", \"page_loading_seconds\": 0.519}\n",
      "{\"clickId\": \"534b4dfc-e768-47b3-9c00-694059e92f2d\", \"impressionId\": \"8cd9baf4-5746-43f3-9bab-24af0733d8bb\", \"clickDate\": \"2024-01-06T07:19:12\", \"productId\": 909}\n",
      "{\"impressionId\": \"43dfed1b-3725-40e5-b43d-46e4c7227df8\", \"impressionDate\": \"2024-01-01T20:47:38\", \"productId\": 973, \"browser\": \"Edge\", \"browserVersion\": \"10.2\", \"device\": \"mobile\", \"source\": \"google\", \"ip_address\": \"119.159.11.32\", \"landing_page\": \"http://www.noble.com/categories/blogterms.htm\", \"page_loading_seconds\": 3.33}\n",
      "{\"impressionId\": \"29267839-8765-4ca5-b886-f2aab8d602fe\", \"impressionDate\": \"2024-01-05T16:29:33\", \"productId\": 992, \"browser\": \"Edge\", \"browserVersion\": \"10.2\", \"device\": \"mobile\", \"source\": \"bing\", \"ip_address\": \"66.241.133.166\", \"landing_page\": \"http://www.miller-stevenson.com/blogsearch.html\", \"page_loading_seconds\": 8.98}\n",
      "{\"clickId\": \"a11dd6f3-3509-4f2c-b37f-82cdaec5e2e0\", \"impressionId\": \"29267839-8765-4ca5-b886-f2aab8d602fe\", \"clickDate\": \"2024-01-05T16:29:33\", \"productId\": 992}\n",
      "{\"impressionId\": \"b889aa67-cec7-440c-b2ed-323791732e98\", \"impressionDate\": \"2024-01-05T22:20:07\", \"productId\": 867, \"browser\": \"Edge\", \"browserVersion\": \"10.2\", \"device\": \"tablet\", \"source\": \"bing\", \"ip_address\": \"95.34.232.92\", \"landing_page\": \"http://willis.org/blog/tags/postsindex.asp\", \"page_loading_seconds\": 4.384}\n",
      "{\"impressionId\": \"40cc54cd-95c5-4fbc-bc6d-3127f976ebaf\", \"impressionDate\": \"2024-01-03T16:04:19\", \"productId\": 935, \"browser\": \"Edge\", \"browserVersion\": \"8.6\", \"device\": \"mobile\", \"source\": \"facebook\", \"ip_address\": \"30.186.69.94\", \"landing_page\": \"https://bartlett-knight.com/category/tags/listhomepage.php\", \"page_loading_seconds\": 3.848}\n",
      "{\"impressionId\": \"8d64e0e9-1809-4dcf-a6f6-09e6e90c0e16\", \"impressionDate\": \"2024-01-06T17:32:05\", \"productId\": 955, \"browser\": \"Edge\", \"browserVersion\": \"6.6\", \"device\": \"tablet\", \"source\": \"facebook\", \"ip_address\": \"93.26.177.71\", \"landing_page\": \"http://www.white.org/tags/posts/searchpost.asp\", \"page_loading_seconds\": 2.222}\n",
      "{\"impressionId\": \"73a3773b-2513-4e4b-a3e1-9b364e7e4eab\", \"impressionDate\": \"2024-01-04T02:40:53\", \"productId\": 904, \"browser\": \"Safari\", \"browserVersion\": \"10.2\", \"device\": \"computer\", \"source\": \"facebook\", \"ip_address\": \"34.153.111.74\", \"landing_page\": \"https://www.avila.org/wp-contentsearch.htm\", \"page_loading_seconds\": 7.664}\n",
      "{\"clickId\": \"1244721c-3843-48cb-9fa0-96f1ac6d7c49\", \"impressionId\": \"73a3773b-2513-4e4b-a3e1-9b364e7e4eab\", \"clickDate\": \"2024-01-04T02:40:53\", \"productId\": 904}\n",
      "{\"impressionId\": \"5b4b5cc6-9aeb-4cec-ad46-1a4b79f863c5\", \"impressionDate\": \"2024-01-07T22:47:02\", \"productId\": 899, \"browser\": \"Chrome\", \"browserVersion\": \"14.6\", \"device\": \"computer\", \"source\": \"google\", \"ip_address\": \"130.176.13.56\", \"landing_page\": \"http://www.murphy-baker.com/exploresearch.php\", \"page_loading_seconds\": 9.648}\n",
      "{\"impressionId\": \"dea2a3da-9642-46ae-aedb-3867363e434f\", \"impressionDate\": \"2024-01-02T12:56:19\", \"productId\": 875, \"browser\": \"Edge\", \"browserVersion\": \"8.5\", \"device\": \"computer\", \"source\": \"bing\", \"ip_address\": \"123.10.238.9\", \"landing_page\": \"https://www.craig.com/tags/appabout.htm\", \"page_loading_seconds\": 8.072}\n",
      "{\"impressionId\": \"e7e6a2b1-0c3a-4fb5-afdf-a0dbba8beacf\", \"impressionDate\": \"2024-01-04T21:35:25\", \"productId\": 980, \"browser\": \"Chrome\", \"browserVersion\": \"14.6\", \"device\": \"computer\", \"source\": \"google\", \"ip_address\": \"16.127.5.14\", \"landing_page\": \"http://davis.info/postslogin.jsp\", \"page_loading_seconds\": 5.051}\n",
      "{\"impressionId\": \"02a506ab-d5a9-43c1-a59c-168ff8bc6cc5\", \"impressionDate\": \"2024-01-06T20:30:31\", \"productId\": 974, \"browser\": \"Chrome\", \"browserVersion\": \"11.2\", \"device\": \"mobile\", \"source\": \"organic\", \"ip_address\": \"48.236.83.64\", \"landing_page\": \"https://parker.com/category/searchabout.jsp\", \"page_loading_seconds\": 7.599}\n",
      "{\"clickId\": \"bbe730e5-a063-4f33-9a89-1c2db4bb9f52\", \"impressionId\": \"02a506ab-d5a9-43c1-a59c-168ff8bc6cc5\", \"clickDate\": \"2024-01-06T20:30:31\", \"productId\": 974}\n",
      "{\"impressionId\": \"f6035362-642c-49b9-93d5-afc08c882e7e\", \"impressionDate\": \"2024-01-07T00:17:52\", \"productId\": 967, \"browser\": \"Chrome\", \"browserVersion\": \"14.6\", \"device\": \"tablet\", \"source\": \"organic\", \"ip_address\": \"93.131.149.57\", \"landing_page\": \"http://ferguson-jones.info/search/exploreterms.htm\", \"page_loading_seconds\": 1.941}\n"
     ]
    }
   ],
   "source": [
    "generateEvents(False, False)"
   ]
  }
 ],
 "metadata": {
  "kernelspec": {
   "display_name": ".venv",
   "language": "python",
   "name": "python3"
  },
  "language_info": {
   "codemirror_mode": {
    "name": "ipython",
    "version": 3
   },
   "file_extension": ".py",
   "mimetype": "text/x-python",
   "name": "python",
   "nbconvert_exporter": "python",
   "pygments_lexer": "ipython3",
   "version": "3.10.11"
  },
  "orig_nbformat": 4
 },
 "nbformat": 4,
 "nbformat_minor": 2
}
