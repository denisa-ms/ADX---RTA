{
 "cells": [
  {
   "cell_type": "code",
   "execution_count": 2,
   "metadata": {},
   "outputs": [],
   "source": [
    "import pyodbc \n",
    "from dotenv import load_dotenv\n",
    "import os\n",
    "load_dotenv()\n",
    "\n",
    "SQL_SERVER = os.getenv(\"SQL_SERVER\") \n",
    "SQL_USER = os.getenv(\"SQL_USER\")\n",
    "SQL_PWD = os.getenv(\"SQL_PWD\")\n",
    "SQL_DBNAME = os.getenv(\"SQL_DBNAME\")\n",
    "SQL_DRIVER = \"SQL SERVER\"\n",
    "connectionString = f'DRIVER={SQL_DRIVER};SERVER={SQL_SERVER};DATABASE={SQL_DBNAME};UID={SQL_USER};PWD={SQL_PWD}'\n",
    "conn = pyodbc.connect(connectionString)\n",
    "\n",
    "cursor = conn.cursor()\n",
    "\n",
    "cursor.execute('''\n",
    "                UPDATE [SalesLT].[SalesOrderDetail]\n",
    "                SET OrderQty = 20, ModifiedDate = CURRENT_TIMESTAMP\n",
    "                WHERE SalesOrderDetailID = 110562\n",
    "                ''')\n",
    "\n",
    "conn.commit()"
   ]
  }
 ],
 "metadata": {
  "kernelspec": {
   "display_name": ".venv",
   "language": "python",
   "name": "python3"
  },
  "language_info": {
   "codemirror_mode": {
    "name": "ipython",
    "version": 3
   },
   "file_extension": ".py",
   "mimetype": "text/x-python",
   "name": "python",
   "nbconvert_exporter": "python",
   "pygments_lexer": "ipython3",
   "version": "3.10.11"
  },
  "orig_nbformat": 4
 },
 "nbformat": 4,
 "nbformat_minor": 2
}
