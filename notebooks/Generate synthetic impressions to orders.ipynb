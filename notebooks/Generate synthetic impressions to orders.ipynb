{
 "cells": [
  {
   "cell_type": "code",
   "execution_count": 2,
   "metadata": {},
   "outputs": [],
   "source": [
    "# RUN THIS ONLY ONCE TO CREATE THE TABLES FOR THE DEMO (IMPRESSIONSTOORDERS)!!!!!\n",
    "from azure.eventhub import EventHubProducerClient, EventData\n",
    "from dotenv import load_dotenv\n",
    "import os\n",
    "import socket\n",
    "\n",
    "load_dotenv()\n",
    "EVENT_HUB_CONN_STRING = os.getenv(\"EVENT_HUB_CONN_STRING\") \n",
    "EVENT_HUB_NAME_IMPRESSIONS = os.getenv(\"EVENT_HUB_NAME_IMPRESSIONS\")\n",
    "EVENT_HUB_NAME_CLICKS = os.getenv(\"EVENT_HUB_NAME_CLICKS\")\n",
    "\n",
    "eventHubConnString = EVENT_HUB_CONN_STRING\n",
    "eventHubNameImpressions = EVENT_HUB_NAME_IMPRESSIONS\n",
    "eventHubNameClicks = EVENT_HUB_NAME_CLICKS\n",
    "\n",
    "producer_impressions = EventHubProducerClient.from_connection_string(conn_str=eventHubConnString, eventhub_name=eventHubNameImpressions)\n",
    "producer_clicks = EventHubProducerClient.from_connection_string(conn_str=eventHubConnString, eventhub_name=eventHubNameClicks)"
   ]
  },
  {
   "cell_type": "code",
   "execution_count": 3,
   "metadata": {},
   "outputs": [],
   "source": [
    "import json\n",
    "\n",
    "def sendToEventsHub(jsonEvent, producer):\n",
    "    eventString = json.dumps(jsonEvent)\n",
    "    print(eventString) \n",
    "    event_data_batch = producer.create_batch() \n",
    "    event_data_batch.add(EventData(eventString)) \n",
    "    producer.send_batch(event_data_batch)\n"
   ]
  },
  {
   "cell_type": "code",
   "execution_count": 4,
   "metadata": {},
   "outputs": [
    {
     "name": "stderr",
     "output_type": "stream",
     "text": [
      "C:\\Users\\dschlesinger\\AppData\\Local\\Temp\\ipykernel_34676\\2410531013.py:21: UserWarning: pandas only supports SQLAlchemy connectable (engine/connection) or database string URI or sqlite3 DBAPI2 connection. Other DBAPI2 objects are not tested. Please consider using SQLAlchemy.\n",
      "  df = pd.read_sql_query(sql_query, conn)\n"
     ]
    }
   ],
   "source": [
    "# generate fake impressions-orders events for demo\n",
    "import pyodbc \n",
    "from dotenv import load_dotenv\n",
    "import os\n",
    "load_dotenv()\n",
    "\n",
    "SQL_SERVER = os.getenv(\"SQL_SERVER\") \n",
    "SQL_USER = os.getenv(\"SQL_USER\")\n",
    "SQL_PWD = os.getenv(\"SQL_PWD\")\n",
    "SQL_DBNAME = os.getenv(\"SQL_DBNAME\")\n",
    "SQL_DRIVER = \"SQL SERVER\"\n",
    "connectionString = f'DRIVER={SQL_DRIVER};SERVER={SQL_SERVER};DATABASE={SQL_DBNAME};UID={SQL_USER};PWD={SQL_PWD}'\n",
    "conn = pyodbc.connect(connectionString)\n",
    "\n",
    "import pandas as pd\n",
    "sql_query = \"\"\"\n",
    "  SELECT  [SalesOrderID],[SalesOrderDetailID],[ProductID]\n",
    "  FROM [SalesLT].[SalesOrderDetail]\n",
    "\"\"\"\n",
    "\n",
    "df = pd.read_sql_query(sql_query, conn)"
   ]
  },
  {
   "cell_type": "code",
   "execution_count": null,
   "metadata": {},
   "outputs": [],
   "source": [
    "from utils import generateClickEvent, generateImpressionEvent\n",
    "\n",
    "impressionsToOrdersDF = pd.DataFrame(columns=['impressionId', 'SalesOrderID', 'SalesOrderDetailID'])\n",
    "for index, row in df.iterrows():\n",
    "    SalesOrderID = row['SalesOrderID']\n",
    "    SalesOrderDetailID = row['SalesOrderDetailID']\n",
    "    productId = row['ProductID']\n",
    "    \n",
    "    #generate click and impression events\n",
    "    impressionEvent = generateImpressionEvent(False, False, productId)\n",
    "    sendToEventsHub(impressionEvent, producer_impressions)\n",
    "    clickEvent = generateClickEvent(impressionEvent)\n",
    "    sendToEventsHub(clickEvent, producer_clicks)\n",
    "\n",
    "    #generate impressionToOrder event\n",
    "    impressionToOrder = {}\n",
    "    impressionToOrder[\"impressionId\"] = impressionEvent[\"impressionId\"]\n",
    "    impressionToOrder[\"salesOrderId\"] = SalesOrderID\n",
    "    impressionToOrder[\"salesOrderDetailId\"] = SalesOrderDetailID\n",
    "    impressionsToOrdersDF.loc[len(impressionsToOrdersDF)] = impressionToOrder\n",
    "impressionsToOrdersDF.to_csv(\"./data/impressionsToOrders.csv\", index=False)\n",
    "producer_impressions.close()\n",
    "producer_clicks.close()"
   ]
  },
  {
   "cell_type": "code",
   "execution_count": null,
   "metadata": {},
   "outputs": [],
   "source": [
    "import pandas as pd\n",
    "from azure.kusto.data import KustoClient, KustoConnectionStringBuilder\n",
    "from azure.kusto.data.exceptions import KustoServiceError\n",
    "from azure.kusto.data.helpers import dataframe_from_result_table\n",
    "from azure.kusto.data.data_format import DataFormat\n",
    "from azure.kusto.ingest import (\n",
    "    BlobDescriptor,\n",
    "    FileDescriptor,\n",
    "    IngestionProperties,\n",
    "    IngestionStatus,\n",
    "    KustoStreamingIngestClient,\n",
    "    ManagedStreamingIngestClient,\n",
    "    QueuedIngestClient,\n",
    "    StreamDescriptor,\n",
    ")\n",
    "load_dotenv()\n",
    "AAD_TENANT_ID = os.getenv(\"AAD_TENANT_ID\")\n",
    "KUSTO_CLUSTER = os.getenv(\"KUSTO_CLUSTER\")\n",
    "KUSTO_INGEST_URI = os.getenv(\"KUSTO_INGEST_URI\")\n",
    "KUSTO_DATABASE = os.getenv(\"KUSTO_DATABASE\")\n",
    "KUSTO_MANAGED_IDENTITY_APP_ID = os.getenv(\"KUSTO_MANAGED_IDENTITY_APP_ID\")\n",
    "KUSTO_MANAGED_IDENTITY_SECRET = os.getenv(\"KUSTO_MANAGED_IDENTITY_SECRET\")\n",
    "\n",
    "# Connect to adx using AAD app registration for ingestion - use ingest URI\n",
    "kcsb = KustoConnectionStringBuilder.with_aad_application_key_authentication(KUSTO_INGEST_URI, KUSTO_MANAGED_IDENTITY_APP_ID, KUSTO_MANAGED_IDENTITY_SECRET,  AAD_TENANT_ID)\n",
    "client = KustoClient(kcsb)\n",
    "kusto_db = KUSTO_DATABASE\n",
    "\n",
    "DESTINATION_TABLE = \"impressionsToOrders\"\n",
    "DESTINATION_TABLE_COLUMN_MAPPING = \"impressionsToOrders_mapping\"\n",
    "\n",
    "client = QueuedIngestClient(kcsb)\n",
    "\n",
    "# there are a lot of useful properties, make sure to go over docs and check them out\n",
    "ingestion_props = IngestionProperties(\n",
    "    database=KUSTO_DATABASE,\n",
    "    table=DESTINATION_TABLE,\n",
    "    data_format=DataFormat.CSV,\n",
    "    # in case status update for success are also required (remember to import ReportLevel from azure.kusto.ingest)\n",
    "    # report_level=ReportLevel.FailuresAndSuccesses,\n",
    "    # in case a mapping is required (remember to import IngestionMappingKind from azure.kusto.data.data_format)\n",
    "    # ingestion_mapping_reference=\"{json_mapping_that_already_exists_on_table}\",\n",
    "    # ingestion_mapping_kind= IngestionMappingKind.JSON,\n",
    ")\n",
    "\n",
    "df = pd.read_csv(\"./data/impressionsToOrders.csv\")\n",
    "\n",
    "client.ingest_from_dataframe(df, ingestion_properties=ingestion_props)"
   ]
  }
 ],
 "metadata": {
  "kernelspec": {
   "display_name": ".venv",
   "language": "python",
   "name": "python3"
  },
  "language_info": {
   "codemirror_mode": {
    "name": "ipython",
    "version": 3
   },
   "file_extension": ".py",
   "mimetype": "text/x-python",
   "name": "python",
   "nbconvert_exporter": "python",
   "pygments_lexer": "ipython3",
   "version": "3.10.11"
  },
  "orig_nbformat": 4
 },
 "nbformat": 4,
 "nbformat_minor": 2
}
