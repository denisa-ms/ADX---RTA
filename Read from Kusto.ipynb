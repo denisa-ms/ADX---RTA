{
 "cells": [
  {
   "cell_type": "code",
   "execution_count": 7,
   "metadata": {},
   "outputs": [],
   "source": [
    "from azure.kusto.data import KustoClient, KustoConnectionStringBuilder\n",
    "from azure.kusto.data.exceptions import KustoServiceError\n",
    "from azure.kusto.data.helpers import dataframe_from_result_table\n",
    "from IPython.display import display, HTML, JSON, Markdown\n",
    "\n",
    "from dotenv import load_dotenv\n",
    "import pandas as pd\n",
    "import os\n",
    "\n",
    "load_dotenv()\n",
    "\n",
    "AAD_TENANT_ID = os.getenv(\"AAD_TENANT_ID\")\n",
    "KUSTO_CLUSTER = os.getenv(\"KUSTO_CLUSTER\")\n",
    "KUSTO_DATABASE = os.getenv(\"KUSTO_DATABASE\")\n",
    "KUSTO_MANAGED_IDENTITY_APP_ID = os.getenv(\"KUSTO_MANAGED_IDENTITY_APP_ID\")\n",
    "KUSTO_MANAGED_IDENTITY_SECRET = os.getenv(\"KUSTO_MANAGED_IDENTITY_SECRET\")"
   ]
  },
  {
   "cell_type": "code",
   "execution_count": 8,
   "metadata": {},
   "outputs": [],
   "source": [
    "# Connect to adx using AAD app registration\n",
    "cluster = KUSTO_CLUSTER\n",
    "kcsb = KustoConnectionStringBuilder.with_aad_application_key_authentication(cluster, KUSTO_MANAGED_IDENTITY_APP_ID, KUSTO_MANAGED_IDENTITY_SECRET,  AAD_TENANT_ID)\n",
    "client = KustoClient(kcsb)\n",
    "kusto_db = KUSTO_DATABASE\n",
    "table_name = \"impressions\""
   ]
  },
  {
   "cell_type": "code",
   "execution_count": 9,
   "metadata": {},
   "outputs": [
    {
     "name": "stdout",
     "output_type": "stream",
     "text": [
      "row :['f11cb5ce-2583-4f55-980d-156f3021c6c4', '2023-11-24 00:07:54+00:00', '707', 'Firefox', '8.6', 'computer', 'google', '157.211.254.174', 'https://robinson-garcia.com/search/categoriespost.htm']\n",
      "row :['8ba24320-c607-4da0-a4d7-01897afd85be', '2023-11-19 15:19:55+00:00', '680', 'Safari', '11.2', 'computer', 'organic', '156.134.63.197', 'https://www.williams.org/tags/blog/postsindex.jsp']\n",
      "row :['1d8e6fff-43c6-4d48-8714-16025b203689', '2023-11-23 04:10:32+00:00', '707', 'Safari', '10.2', 'computer', 'bing', '36.145.116.152', 'https://www.riley.com/blog/categories/tagsterms.jsp']\n",
      "row :['e4fb233f-c930-4d44-ba7e-bbce17af2395', '2023-11-19 15:00:36+00:00', '711', 'Firefox', '8.5', 'computer', 'facebook', '134.144.59.249', 'https://morris-peterson.net/posts/blogterms.jsp']\n",
      "row :['03cf8df9-9bf0-4b80-8ced-bfb5aaf85e10', '2023-11-21 06:26:15+00:00', '709', 'Chrome', '4.5', 'computer', 'facebook', '57.243.24.17', 'https://www.peterson.info/categories/categorymain.htm']\n",
      "row :['53e29212-d544-4670-86d7-66e52b09fe55', '2023-11-25 13:03:02+00:00', '712', 'Chrome', '4.5', 'tablet', 'bing', '166.236.237.156', 'https://walker.com/tags/app/mainabout.php']\n",
      "row :['feaacabc-207c-4817-b890-44406c3d1c31', '2023-11-19 08:15:27+00:00', '707', 'Safari', '13.6', 'computer', 'google', '22.150.123.40', 'https://www.reed.biz/tagmain.asp']\n",
      "row :['c76d159b-ce05-45d5-8ed0-af60a2135a61', '2023-11-20 04:00:33+00:00', '709', 'Chrome', '11.2', 'mobile', 'organic', '58.174.92.189', 'http://white.com/tag/search/wp-contentauthor.html']\n",
      "row :['9443ca34-e922-42ff-9013-da84fce1e4c3', '2023-11-24 15:09:03+00:00', '711', 'Edge', '4.5', 'computer', 'organic', '117.77.238.124', 'http://www.gillespie.com/search/explore/tagsprivacy.html']\n",
      "row :['228a3ed3-f619-4c25-b7d2-2a73a6aae312', '2023-11-20 07:41:59+00:00', '708', 'Firefox', '13.6', 'mobile', 'bing', '55.177.179.134', 'https://www.friedman.com/wp-content/postsindex.php']\n"
     ]
    }
   ],
   "source": [
    "query = table_name + \" | take 10\"\n",
    "\n",
    "response = client.execute(kusto_db, query)\n",
    "for row in response.primary_results[0]:\n",
    "    print(\"row :{}\".format(row))"
   ]
  }
 ],
 "metadata": {
  "kernelspec": {
   "display_name": ".venv",
   "language": "python",
   "name": "python3"
  },
  "language_info": {
   "codemirror_mode": {
    "name": "ipython",
    "version": 3
   },
   "file_extension": ".py",
   "mimetype": "text/x-python",
   "name": "python",
   "nbconvert_exporter": "python",
   "pygments_lexer": "ipython3",
   "version": "3.10.11"
  },
  "orig_nbformat": 4
 },
 "nbformat": 4,
 "nbformat_minor": 2
}
